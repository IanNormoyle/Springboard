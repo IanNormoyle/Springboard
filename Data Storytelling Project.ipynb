{
 "cells": [
  {
   "cell_type": "code",
   "execution_count": 1,
   "metadata": {
    "scrolled": true
   },
   "outputs": [
    {
     "name": "stderr",
     "output_type": "stream",
     "text": [
      "\n",
      "Bad key text.latex.preview in file C:\\Users\\IansSecondPC\\anaconda3\\lib\\site-packages\\matplotlib\\mpl-data\\stylelib\\_classic_test.mplstyle, line 123 ('text.latex.preview : False')\n",
      "You probably need to get an updated matplotlibrc file from\n",
      "https://github.com/matplotlib/matplotlib/blob/v3.5.3/matplotlibrc.template\n",
      "or from the matplotlib source distribution\n",
      "\n",
      "Bad key mathtext.fallback_to_cm in file C:\\Users\\IansSecondPC\\anaconda3\\lib\\site-packages\\matplotlib\\mpl-data\\stylelib\\_classic_test.mplstyle, line 155 ('mathtext.fallback_to_cm : True  # When True, use symbols from the Computer Modern')\n",
      "You probably need to get an updated matplotlibrc file from\n",
      "https://github.com/matplotlib/matplotlib/blob/v3.5.3/matplotlibrc.template\n",
      "or from the matplotlib source distribution\n",
      "\n",
      "Bad key savefig.jpeg_quality in file C:\\Users\\IansSecondPC\\anaconda3\\lib\\site-packages\\matplotlib\\mpl-data\\stylelib\\_classic_test.mplstyle, line 418 ('savefig.jpeg_quality: 95       # when a jpeg is saved, the default quality parameter.')\n",
      "You probably need to get an updated matplotlibrc file from\n",
      "https://github.com/matplotlib/matplotlib/blob/v3.5.3/matplotlibrc.template\n",
      "or from the matplotlib source distribution\n",
      "\n",
      "Bad key keymap.all_axes in file C:\\Users\\IansSecondPC\\anaconda3\\lib\\site-packages\\matplotlib\\mpl-data\\stylelib\\_classic_test.mplstyle, line 466 ('keymap.all_axes : a                 # enable all axes')\n",
      "You probably need to get an updated matplotlibrc file from\n",
      "https://github.com/matplotlib/matplotlib/blob/v3.5.3/matplotlibrc.template\n",
      "or from the matplotlib source distribution\n",
      "\n",
      "Bad key animation.avconv_path in file C:\\Users\\IansSecondPC\\anaconda3\\lib\\site-packages\\matplotlib\\mpl-data\\stylelib\\_classic_test.mplstyle, line 477 ('animation.avconv_path: avconv     # Path to avconv binary. Without full path')\n",
      "You probably need to get an updated matplotlibrc file from\n",
      "https://github.com/matplotlib/matplotlib/blob/v3.5.3/matplotlibrc.template\n",
      "or from the matplotlib source distribution\n",
      "\n",
      "Bad key animation.avconv_args in file C:\\Users\\IansSecondPC\\anaconda3\\lib\\site-packages\\matplotlib\\mpl-data\\stylelib\\_classic_test.mplstyle, line 479 ('animation.avconv_args:            # Additional arguments to pass to avconv')\n",
      "You probably need to get an updated matplotlibrc file from\n",
      "https://github.com/matplotlib/matplotlib/blob/v3.5.3/matplotlibrc.template\n",
      "or from the matplotlib source distribution\n"
     ]
    },
    {
     "data": {
      "text/html": [
       "<div>\n",
       "<style scoped>\n",
       "    .dataframe tbody tr th:only-of-type {\n",
       "        vertical-align: middle;\n",
       "    }\n",
       "\n",
       "    .dataframe tbody tr th {\n",
       "        vertical-align: top;\n",
       "    }\n",
       "\n",
       "    .dataframe thead th {\n",
       "        text-align: right;\n",
       "    }\n",
       "</style>\n",
       "<table border=\"1\" class=\"dataframe\">\n",
       "  <thead>\n",
       "    <tr style=\"text-align: right;\">\n",
       "      <th></th>\n",
       "      <th>Education</th>\n",
       "      <th>JoiningYear</th>\n",
       "      <th>City</th>\n",
       "      <th>PaymentTier</th>\n",
       "      <th>Age</th>\n",
       "      <th>Gender</th>\n",
       "      <th>EverBenched</th>\n",
       "      <th>ExperienceInCurrentDomain</th>\n",
       "      <th>LeaveOrNot</th>\n",
       "    </tr>\n",
       "  </thead>\n",
       "  <tbody>\n",
       "    <tr>\n",
       "      <th>0</th>\n",
       "      <td>Bachelors</td>\n",
       "      <td>2017</td>\n",
       "      <td>Bangalore</td>\n",
       "      <td>3</td>\n",
       "      <td>34</td>\n",
       "      <td>Male</td>\n",
       "      <td>No</td>\n",
       "      <td>0</td>\n",
       "      <td>0</td>\n",
       "    </tr>\n",
       "    <tr>\n",
       "      <th>1</th>\n",
       "      <td>Bachelors</td>\n",
       "      <td>2013</td>\n",
       "      <td>Pune</td>\n",
       "      <td>1</td>\n",
       "      <td>28</td>\n",
       "      <td>Female</td>\n",
       "      <td>No</td>\n",
       "      <td>3</td>\n",
       "      <td>1</td>\n",
       "    </tr>\n",
       "    <tr>\n",
       "      <th>2</th>\n",
       "      <td>Bachelors</td>\n",
       "      <td>2014</td>\n",
       "      <td>New Delhi</td>\n",
       "      <td>3</td>\n",
       "      <td>38</td>\n",
       "      <td>Female</td>\n",
       "      <td>No</td>\n",
       "      <td>2</td>\n",
       "      <td>0</td>\n",
       "    </tr>\n",
       "    <tr>\n",
       "      <th>3</th>\n",
       "      <td>Masters</td>\n",
       "      <td>2016</td>\n",
       "      <td>Bangalore</td>\n",
       "      <td>3</td>\n",
       "      <td>27</td>\n",
       "      <td>Male</td>\n",
       "      <td>No</td>\n",
       "      <td>5</td>\n",
       "      <td>1</td>\n",
       "    </tr>\n",
       "    <tr>\n",
       "      <th>4</th>\n",
       "      <td>Masters</td>\n",
       "      <td>2017</td>\n",
       "      <td>Pune</td>\n",
       "      <td>3</td>\n",
       "      <td>24</td>\n",
       "      <td>Male</td>\n",
       "      <td>Yes</td>\n",
       "      <td>2</td>\n",
       "      <td>1</td>\n",
       "    </tr>\n",
       "  </tbody>\n",
       "</table>\n",
       "</div>"
      ],
      "text/plain": [
       "   Education  JoiningYear       City  PaymentTier  Age  Gender EverBenched  \\\n",
       "0  Bachelors         2017  Bangalore            3   34    Male          No   \n",
       "1  Bachelors         2013       Pune            1   28  Female          No   \n",
       "2  Bachelors         2014  New Delhi            3   38  Female          No   \n",
       "3    Masters         2016  Bangalore            3   27    Male          No   \n",
       "4    Masters         2017       Pune            3   24    Male         Yes   \n",
       "\n",
       "   ExperienceInCurrentDomain  LeaveOrNot  \n",
       "0                          0           0  \n",
       "1                          3           1  \n",
       "2                          2           0  \n",
       "3                          5           1  \n",
       "4                          2           1  "
      ]
     },
     "execution_count": 1,
     "metadata": {},
     "output_type": "execute_result"
    }
   ],
   "source": [
    "import pandas as pd\n",
    "import numpy as np\n",
    "import matplotlib.pyplot as plt\n",
    "DF = pd.read_csv(r\"C:\\Users\\Ian's Second PC\\Downloads\\archive (7)\\Employee.csv\", encoding = 'utf-8')\n",
    "DF.head()"
   ]
  },
  {
   "cell_type": "code",
   "execution_count": 2,
   "metadata": {},
   "outputs": [],
   "source": [
    "def first_EDA(df):\n",
    "    size = df.shape\n",
    "    sum_duplicates = df.duplicated().sum()\n",
    "    sum_null = df.isnull().sum().sum()\n",
    "    is_NaN = df. isnull()\n",
    "    row_has_NaN = is_NaN. any(axis=1)\n",
    "    rows_with_NaN = df[row_has_NaN]\n",
    "    count_NaN_rows = rows_with_NaN.shape\n",
    "    return print(\"Samples: %d,\\nFeatures Count: %d,\\nDuplicates: %d,\\nNull Entries: %d,\\nNumber of Rows with Null Entries: %d %.1f%%\" %(size[0],size[1], sum_duplicates, sum_null,count_NaN_rows[0],(count_NaN_rows[0] / df.shape[0])*100))\n"
   ]
  },
  {
   "cell_type": "code",
   "execution_count": 3,
   "metadata": {
    "scrolled": true
   },
   "outputs": [
    {
     "name": "stdout",
     "output_type": "stream",
     "text": [
      "<class 'pandas.core.frame.DataFrame'>\n",
      "RangeIndex: 4653 entries, 0 to 4652\n",
      "Data columns (total 9 columns):\n",
      " #   Column                     Non-Null Count  Dtype \n",
      "---  ------                     --------------  ----- \n",
      " 0   Education                  4653 non-null   object\n",
      " 1   JoiningYear                4653 non-null   int64 \n",
      " 2   City                       4653 non-null   object\n",
      " 3   PaymentTier                4653 non-null   int64 \n",
      " 4   Age                        4653 non-null   int64 \n",
      " 5   Gender                     4653 non-null   object\n",
      " 6   EverBenched                4653 non-null   object\n",
      " 7   ExperienceInCurrentDomain  4653 non-null   int64 \n",
      " 8   LeaveOrNot                 4653 non-null   int64 \n",
      "dtypes: int64(5), object(4)\n",
      "memory usage: 327.3+ KB\n"
     ]
    }
   ],
   "source": [
    "DF.info()"
   ]
  },
  {
   "cell_type": "code",
   "execution_count": 4,
   "metadata": {},
   "outputs": [
    {
     "name": "stdout",
     "output_type": "stream",
     "text": [
      "Samples: 4653,\n",
      "Features Count: 9,\n",
      "Duplicates: 1889,\n",
      "Null Entries: 0,\n",
      "Number of Rows with Null Entries: 0 0.0%\n"
     ]
    }
   ],
   "source": [
    "first_EDA(DF)"
   ]
  },
  {
   "cell_type": "code",
   "execution_count": 5,
   "metadata": {},
   "outputs": [
    {
     "data": {
      "text/html": [
       "<div>\n",
       "<style scoped>\n",
       "    .dataframe tbody tr th:only-of-type {\n",
       "        vertical-align: middle;\n",
       "    }\n",
       "\n",
       "    .dataframe tbody tr th {\n",
       "        vertical-align: top;\n",
       "    }\n",
       "\n",
       "    .dataframe thead th {\n",
       "        text-align: right;\n",
       "    }\n",
       "</style>\n",
       "<table border=\"1\" class=\"dataframe\">\n",
       "  <thead>\n",
       "    <tr style=\"text-align: right;\">\n",
       "      <th></th>\n",
       "      <th>Education</th>\n",
       "      <th>JoiningYear</th>\n",
       "      <th>City</th>\n",
       "      <th>PaymentTier</th>\n",
       "      <th>Age</th>\n",
       "      <th>Gender</th>\n",
       "      <th>EverBenched</th>\n",
       "      <th>LeaveOrNot</th>\n",
       "      <th>EduCat</th>\n",
       "      <th>GenderDummy</th>\n",
       "      <th>BenchDummy</th>\n",
       "      <th>EXP</th>\n",
       "    </tr>\n",
       "  </thead>\n",
       "  <tbody>\n",
       "    <tr>\n",
       "      <th>0</th>\n",
       "      <td>Bachelors</td>\n",
       "      <td>2017</td>\n",
       "      <td>Bangalore</td>\n",
       "      <td>3</td>\n",
       "      <td>34</td>\n",
       "      <td>Male</td>\n",
       "      <td>No</td>\n",
       "      <td>0</td>\n",
       "      <td>0</td>\n",
       "      <td>0</td>\n",
       "      <td>0</td>\n",
       "      <td>0</td>\n",
       "    </tr>\n",
       "    <tr>\n",
       "      <th>1</th>\n",
       "      <td>Bachelors</td>\n",
       "      <td>2013</td>\n",
       "      <td>Pune</td>\n",
       "      <td>1</td>\n",
       "      <td>28</td>\n",
       "      <td>Female</td>\n",
       "      <td>No</td>\n",
       "      <td>1</td>\n",
       "      <td>0</td>\n",
       "      <td>1</td>\n",
       "      <td>0</td>\n",
       "      <td>3</td>\n",
       "    </tr>\n",
       "    <tr>\n",
       "      <th>2</th>\n",
       "      <td>Bachelors</td>\n",
       "      <td>2014</td>\n",
       "      <td>New Delhi</td>\n",
       "      <td>3</td>\n",
       "      <td>38</td>\n",
       "      <td>Female</td>\n",
       "      <td>No</td>\n",
       "      <td>0</td>\n",
       "      <td>0</td>\n",
       "      <td>1</td>\n",
       "      <td>0</td>\n",
       "      <td>2</td>\n",
       "    </tr>\n",
       "    <tr>\n",
       "      <th>3</th>\n",
       "      <td>Masters</td>\n",
       "      <td>2016</td>\n",
       "      <td>Bangalore</td>\n",
       "      <td>3</td>\n",
       "      <td>27</td>\n",
       "      <td>Male</td>\n",
       "      <td>No</td>\n",
       "      <td>1</td>\n",
       "      <td>1</td>\n",
       "      <td>0</td>\n",
       "      <td>0</td>\n",
       "      <td>5</td>\n",
       "    </tr>\n",
       "    <tr>\n",
       "      <th>4</th>\n",
       "      <td>Masters</td>\n",
       "      <td>2017</td>\n",
       "      <td>Pune</td>\n",
       "      <td>3</td>\n",
       "      <td>24</td>\n",
       "      <td>Male</td>\n",
       "      <td>Yes</td>\n",
       "      <td>1</td>\n",
       "      <td>1</td>\n",
       "      <td>0</td>\n",
       "      <td>1</td>\n",
       "      <td>2</td>\n",
       "    </tr>\n",
       "  </tbody>\n",
       "</table>\n",
       "</div>"
      ],
      "text/plain": [
       "   Education  JoiningYear       City  PaymentTier  Age  Gender EverBenched  \\\n",
       "0  Bachelors         2017  Bangalore            3   34    Male          No   \n",
       "1  Bachelors         2013       Pune            1   28  Female          No   \n",
       "2  Bachelors         2014  New Delhi            3   38  Female          No   \n",
       "3    Masters         2016  Bangalore            3   27    Male          No   \n",
       "4    Masters         2017       Pune            3   24    Male         Yes   \n",
       "\n",
       "   LeaveOrNot  EduCat  GenderDummy  BenchDummy  EXP  \n",
       "0           0       0            0           0    0  \n",
       "1           1       0            1           0    3  \n",
       "2           0       0            1           0    2  \n",
       "3           1       1            0           0    5  \n",
       "4           1       1            0           1    2  "
      ]
     },
     "execution_count": 5,
     "metadata": {},
     "output_type": "execute_result"
    }
   ],
   "source": [
    "DF['EduCat'] = DF['Education'].astype('category')\n",
    "DF['EduCat'].replace(['Bachelors','Masters','PHD'], [0, 1, 2], inplace=True)\n",
    "DF['GenderDummy'] = DF['Gender'].replace(['Male','Female'], [0, 1])\n",
    "DF['BenchDummy'] = DF['EverBenched'].replace(['No', 'Yes'], [0, 1])\n",
    "DF['EXP'] = DF['ExperienceInCurrentDomain']\n",
    "DF['EXP'] = DF['EXP'].astype(int)\n",
    "DF['EduCat'] = DF['EduCat'].astype(int)\n",
    "DF = DF.drop('ExperienceInCurrentDomain', axis = 1)\n",
    "DF.head()"
   ]
  },
  {
   "cell_type": "code",
   "execution_count": null,
   "metadata": {},
   "outputs": [],
   "source": []
  },
  {
   "cell_type": "code",
   "execution_count": 6,
   "metadata": {},
   "outputs": [],
   "source": [
    "#This Presentation is meant for an executive audience, specifically for hiring policies and hiring metrics as well as \n",
    "#human resources policies. While some qualitative methods such as STAR can help parse the preferred candidates among a \n",
    "#field of those equally qualified, this may provide insight on the selection methods for the retention of employees, \n",
    "#both in the hiring field, and in the policies around retention. Both segments will be analyzed, and analyzed from a variety\n",
    "#of angles. The primary focus will be tracking what factors make an employee more likely to leave, for retention purposes.\n",
    "#In addition, the question of factors such as education level and compensation and their impact on retention."
   ]
  },
  {
   "cell_type": "code",
   "execution_count": 7,
   "metadata": {},
   "outputs": [],
   "source": [
    "#First and Foremost, it may be helpful to understand how well represented each of these demographics are in the data.\n",
    "#To this end, the employees in the list will be evaluated in terms of payment tier, age, and education level, to understand\n",
    "#the current situation around the company's employee base."
   ]
  },
  {
   "cell_type": "code",
   "execution_count": 8,
   "metadata": {},
   "outputs": [
    {
     "data": {
      "text/plain": [
       "Bachelors    3601\n",
       "Masters       873\n",
       "PHD           179\n",
       "Name: Education, dtype: int64"
      ]
     },
     "execution_count": 8,
     "metadata": {},
     "output_type": "execute_result"
    },
    {
     "data": {
      "image/png": "[encoded data removed]",
      "text/plain": [
       "<Figure size 432x288 with 1 Axes>"
      ]
     },
     "metadata": {
      "needs_background": "light"
     },
     "output_type": "display_data"
    }
   ],
   "source": [
    "DF['Education'].value_counts().plot(kind='bar')\n",
    "DF['Education'].value_counts()"
   ]
  },
  {
   "cell_type": "code",
   "execution_count": 9,
   "metadata": {},
   "outputs": [],
   "source": [
    "#Predictably, the counts of education heavily favor bachelor's degree. out of 4653 employees, 3601 \n",
    "#have only a bachelor's degree. This is 77.40% of the total sample. Master's Degrees in turn make up 18.76% of the sample.\n",
    "#Finally, PHDs make the smallest portion, only 3.84%. While the statistic on Bachelor's Degrees being so overwhelmingly large\n",
    "#can seem overwhelming and intimidating, there may be outsize performance and other metrics associated with the 22.60% of \n",
    "#those with advanced degrees."
   ]
  },
  {
   "cell_type": "code",
   "execution_count": 15,
   "metadata": {},
   "outputs": [],
   "source": [
    "#Now, let's observe the gender parity within the organization, it should further be noted that the correlations between\n",
    "#variables such as gender and things like education level may have causes that are not necessarily the result of the \n",
    "#company's policies. These may include broader societal trends around education and gender, as well as systemic issues such\n",
    "#as academic discriminiation."
   ]
  },
  {
   "cell_type": "code",
   "execution_count": 16,
   "metadata": {},
   "outputs": [
    {
     "data": {
      "text/plain": [
       "Male      2778\n",
       "Female    1875\n",
       "Name: Gender, dtype: int64"
      ]
     },
     "execution_count": 16,
     "metadata": {},
     "output_type": "execute_result"
    },
    {
     "data": {
      "image/png": "[encoded data removed]",
      "text/plain": [
       "<Figure size 432x288 with 1 Axes>"
      ]
     },
     "metadata": {
      "needs_background": "light"
     },
     "output_type": "display_data"
    }
   ],
   "source": [
    "DF['Gender'].value_counts().plot(kind='bar')\n",
    "DF['Gender'].value_counts()"
   ]
  },
  {
   "cell_type": "code",
   "execution_count": null,
   "metadata": {},
   "outputs": [],
   "source": [
    "#Men in turn make up a substantially larger portion of employees in this company. Out of 4653, 2778 are male, or 59.70%\n",
    "#Women, as a consequence, make up only 1875, or 39.30%, a roughly ten percent disparity. In India, the gender parity in the \n",
    "#general population does favor men, but only a 3% difference, certainly not proportionate to the gender divide across Indian\n",
    "#society. This is likely due to broad, systemic practices discouraging women from educaiton and the workforce in India."
   ]
  },
  {
   "cell_type": "code",
   "execution_count": null,
   "metadata": {},
   "outputs": [],
   "source": [
    "#Now, let's examine a more quantitative variable, that of age. While some variation in age and experience is naturally \n",
    "#to be expected, the question of the company's position within its industry, based on the age and of its employee base\n",
    "#is a worthwhile question to investigate. After all, an older, seasoned worker that knows an older industry well may have\n",
    "#significant value, but for a newer industry, a younger, more innovative base may prove more effective."
   ]
  },
  {
   "cell_type": "code",
   "execution_count": 20,
   "metadata": {},
   "outputs": [
    {
     "data": {
      "text/plain": [
       "26    645\n",
       "28    630\n",
       "27    625\n",
       "25    418\n",
       "24    385\n",
       "29    230\n",
       "30    220\n",
       "37    141\n",
       "36    139\n",
       "34    136\n",
       "38    136\n",
       "40    134\n",
       "32    132\n",
       "39    131\n",
       "31    125\n",
       "33    124\n",
       "35    123\n",
       "41     82\n",
       "22     49\n",
       "23     48\n",
       "Name: Age, dtype: int64"
      ]
     },
     "execution_count": 20,
     "metadata": {},
     "output_type": "execute_result"
    },
    {
     "data": {
      "image/png": "[encoded data removed]",
      "text/plain": [
       "<Figure size 432x288 with 1 Axes>"
      ]
     },
     "metadata": {
      "needs_background": "light"
     },
     "output_type": "display_data"
    }
   ],
   "source": [
    "plt.hist(DF['Age'])\n",
    "DF['Age'].value_counts()"
   ]
  },
  {
   "cell_type": "code",
   "execution_count": null,
   "metadata": {},
   "outputs": [],
   "source": [
    "#As can be observed with another bar chart, this is a very young company, all employees range in age from 22 to 41,\n",
    "#with the distribution heavily skewed to the younger side of that, the modal age is only 26. In light of this information, \n",
    "#may be useful to see if age has a particularly strong impact on income, both to determine if this is the product of there\n",
    "#being a greater abundance of lower-level positions that attract younger, less experienced employees, or if there is a \n",
    "#genuine preference for younger workers outside of this. To illustrate this point, let's examine pay tiers in corrolary to\n",
    "#age"
   ]
  },
  {
   "cell_type": "code",
   "execution_count": 27,
   "metadata": {},
   "outputs": [
    {
     "data": {
      "text/plain": [
       "0.00763089984971288"
      ]
     },
     "execution_count": 27,
     "metadata": {},
     "output_type": "execute_result"
    }
   ],
   "source": [
    "DF['Age'].corr(DF['PaymentTier'])"
   ]
  },
  {
   "cell_type": "code",
   "execution_count": 29,
   "metadata": {},
   "outputs": [
    {
     "data": {
      "text/plain": [
       "<AxesSubplot:xlabel='PaymentTier', ylabel='Age'>"
      ]
     },
     "execution_count": 29,
     "metadata": {},
     "output_type": "execute_result"
    },
    {
     "data": {
      "image/png": "[encoded data removed]",
      "text/plain": [
       "<Figure size 432x288 with 1 Axes>"
      ]
     },
     "metadata": {
      "needs_background": "light"
     },
     "output_type": "display_data"
    }
   ],
   "source": [
    "import seaborn as sns\n",
    "sns.lineplot(x=\"PaymentTier\", y=\"Age\", data=DF)"
   ]
  },
  {
   "cell_type": "code",
   "execution_count": null,
   "metadata": {},
   "outputs": [],
   "source": [
    "#From this analysis, there is a striking finding: There is little correlation at all between age and compensation. While \n",
    "#there is a small positive correlation, it is of less than 1%. It may be helpful to examine other varaibles to determine the\n",
    "#proper factor to be examining."
   ]
  },
  {
   "cell_type": "code",
   "execution_count": 31,
   "metadata": {},
   "outputs": [
    {
     "data": {
      "text/plain": [
       "-0.23511855979199947"
      ]
     },
     "execution_count": 31,
     "metadata": {},
     "output_type": "execute_result"
    }
   ],
   "source": [
    "DF['GenderDummy'].corr(DF['PaymentTier'])"
   ]
  },
  {
   "cell_type": "code",
   "execution_count": 32,
   "metadata": {},
   "outputs": [
    {
     "data": {
      "text/plain": [
       "<AxesSubplot:xlabel='PaymentTier', ylabel='GenderDummy'>"
      ]
     },
     "execution_count": 32,
     "metadata": {},
     "output_type": "execute_result"
    },
    {
     "data": {
      "image/png": "[encoded data removed]",
      "text/plain": [
       "<Figure size 432x288 with 1 Axes>"
      ]
     },
     "metadata": {
      "needs_background": "light"
     },
     "output_type": "display_data"
    }
   ],
   "source": [
    "sns.lineplot(x=\"PaymentTier\", y=\"GenderDummy\", data=DF)"
   ]
  },
  {
   "cell_type": "code",
   "execution_count": 33,
   "metadata": {},
   "outputs": [
    {
     "data": {
      "text/plain": [
       "-0.14074103672484095"
      ]
     },
     "execution_count": 33,
     "metadata": {},
     "output_type": "execute_result"
    }
   ],
   "source": [
    "DF['EduCat'].corr(DF['PaymentTier'])"
   ]
  },
  {
   "cell_type": "code",
   "execution_count": 40,
   "metadata": {},
   "outputs": [
    {
     "data": {
      "text/plain": [
       "0.010888811077062991"
      ]
     },
     "execution_count": 40,
     "metadata": {},
     "output_type": "execute_result"
    }
   ],
   "source": [
    "DF['EduCat'].corr(DF['GenderDummy'])"
   ]
  },
  {
   "cell_type": "code",
   "execution_count": 41,
   "metadata": {},
   "outputs": [
    {
     "data": {
      "text/plain": [
       "<AxesSubplot:xlabel='EduCat', ylabel='GenderDummy'>"
      ]
     },
     "execution_count": 41,
     "metadata": {},
     "output_type": "execute_result"
    },
    {
     "data": {
      "image/png": "[encoded data removed]",
      "text/plain": [
       "<Figure size 432x288 with 1 Axes>"
      ]
     },
     "metadata": {
      "needs_background": "light"
     },
     "output_type": "display_data"
    }
   ],
   "source": [
    "sns.lineplot(x=\"EduCat\", y=\"GenderDummy\", data=DF)"
   ]
  },
  {
   "cell_type": "code",
   "execution_count": 35,
   "metadata": {},
   "outputs": [
    {
     "data": {
      "text/plain": [
       "<AxesSubplot:xlabel='PaymentTier', ylabel='EduCat'>"
      ]
     },
     "execution_count": 35,
     "metadata": {},
     "output_type": "execute_result"
    },
    {
     "data": {
      "image/png": "[encoded data removed]",
      "text/plain": [
       "<Figure size 432x288 with 1 Axes>"
      ]
     },
     "metadata": {
      "needs_background": "light"
     },
     "output_type": "display_data"
    }
   ],
   "source": [
    "sns.lineplot(x=\"PaymentTier\", y=\"EduCat\", data=DF)"
   ]
  },
  {
   "cell_type": "code",
   "execution_count": 37,
   "metadata": {},
   "outputs": [
    {
     "data": {
      "text/plain": [
       "-0.01965290642578337"
      ]
     },
     "execution_count": 37,
     "metadata": {},
     "output_type": "execute_result"
    }
   ],
   "source": [
    "DF['GenderDummy'].corr(DF['BenchDummy'])"
   ]
  },
  {
   "cell_type": "code",
   "execution_count": 38,
   "metadata": {},
   "outputs": [
    {
     "data": {
      "text/plain": [
       "<AxesSubplot:xlabel='GenderDummy', ylabel='BenchDummy'>"
      ]
     },
     "execution_count": 38,
     "metadata": {},
     "output_type": "execute_result"
    },
    {
     "data": {
      "image/png": "[encoded data removed]",
      "text/plain": [
       "<Figure size 432x288 with 1 Axes>"
      ]
     },
     "metadata": {
      "needs_background": "light"
     },
     "output_type": "display_data"
    }
   ],
   "source": [
    "sns.lineplot(x=\"GenderDummy\", y=\"BenchDummy\", data=DF)"
   ]
  },
  {
   "cell_type": "code",
   "execution_count": 39,
   "metadata": {},
   "outputs": [
    {
     "data": {
      "text/plain": [
       "0.018314321387224046"
      ]
     },
     "execution_count": 39,
     "metadata": {},
     "output_type": "execute_result"
    }
   ],
   "source": [
    "DF['EXP'].corr(DF['PaymentTier'])"
   ]
  },
  {
   "cell_type": "code",
   "execution_count": 43,
   "metadata": {},
   "outputs": [
    {
     "data": {
      "text/plain": [
       "<AxesSubplot:xlabel='EXP', ylabel='PaymentTier'>"
      ]
     },
     "execution_count": 43,
     "metadata": {},
     "output_type": "execute_result"
    },
    {
     "data": {
      "image/png": "[encoded data removed]",
      "text/plain": [
       "<Figure size 432x288 with 1 Axes>"
      ]
     },
     "metadata": {
      "needs_background": "light"
     },
     "output_type": "display_data"
    }
   ],
   "source": [
    "sns.lineplot(x=\"EXP\", y=\"PaymentTier\", data=DF)"
   ]
  },
  {
   "cell_type": "code",
   "execution_count": 55,
   "metadata": {},
   "outputs": [
    {
     "data": {
      "text/html": [
       "<div>\n",
       "<style scoped>\n",
       "    .dataframe tbody tr th:only-of-type {\n",
       "        vertical-align: middle;\n",
       "    }\n",
       "\n",
       "    .dataframe tbody tr th {\n",
       "        vertical-align: top;\n",
       "    }\n",
       "\n",
       "    .dataframe thead th {\n",
       "        text-align: right;\n",
       "    }\n",
       "</style>\n",
       "<table border=\"1\" class=\"dataframe\">\n",
       "  <thead>\n",
       "    <tr style=\"text-align: right;\">\n",
       "      <th></th>\n",
       "      <th>JoiningYear</th>\n",
       "      <th>PaymentTier</th>\n",
       "      <th>Age</th>\n",
       "      <th>LeaveOrNot</th>\n",
       "      <th>EduCat</th>\n",
       "      <th>GenderDummy</th>\n",
       "      <th>BenchDummy</th>\n",
       "      <th>EXP</th>\n",
       "    </tr>\n",
       "  </thead>\n",
       "  <tbody>\n",
       "    <tr>\n",
       "      <th>JoiningYear</th>\n",
       "      <td>1.000000</td>\n",
       "      <td>-0.096078</td>\n",
       "      <td>0.013165</td>\n",
       "      <td>0.181705</td>\n",
       "      <td>0.142670</td>\n",
       "      <td>0.012213</td>\n",
       "      <td>0.049353</td>\n",
       "      <td>-0.036525</td>\n",
       "    </tr>\n",
       "    <tr>\n",
       "      <th>PaymentTier</th>\n",
       "      <td>-0.096078</td>\n",
       "      <td>1.000000</td>\n",
       "      <td>0.007631</td>\n",
       "      <td>-0.197638</td>\n",
       "      <td>-0.140741</td>\n",
       "      <td>-0.235119</td>\n",
       "      <td>0.019207</td>\n",
       "      <td>0.018314</td>\n",
       "    </tr>\n",
       "    <tr>\n",
       "      <th>Age</th>\n",
       "      <td>0.013165</td>\n",
       "      <td>0.007631</td>\n",
       "      <td>1.000000</td>\n",
       "      <td>-0.051126</td>\n",
       "      <td>-0.010611</td>\n",
       "      <td>0.003866</td>\n",
       "      <td>-0.016135</td>\n",
       "      <td>-0.134643</td>\n",
       "    </tr>\n",
       "    <tr>\n",
       "      <th>LeaveOrNot</th>\n",
       "      <td>0.181705</td>\n",
       "      <td>-0.197638</td>\n",
       "      <td>-0.051126</td>\n",
       "      <td>1.000000</td>\n",
       "      <td>0.080497</td>\n",
       "      <td>0.220701</td>\n",
       "      <td>0.078438</td>\n",
       "      <td>-0.030504</td>\n",
       "    </tr>\n",
       "    <tr>\n",
       "      <th>EduCat</th>\n",
       "      <td>0.142670</td>\n",
       "      <td>-0.140741</td>\n",
       "      <td>-0.010611</td>\n",
       "      <td>0.080497</td>\n",
       "      <td>1.000000</td>\n",
       "      <td>0.010889</td>\n",
       "      <td>-0.052249</td>\n",
       "      <td>-0.004463</td>\n",
       "    </tr>\n",
       "    <tr>\n",
       "      <th>GenderDummy</th>\n",
       "      <td>0.012213</td>\n",
       "      <td>-0.235119</td>\n",
       "      <td>0.003866</td>\n",
       "      <td>0.220701</td>\n",
       "      <td>0.010889</td>\n",
       "      <td>1.000000</td>\n",
       "      <td>-0.019653</td>\n",
       "      <td>-0.008745</td>\n",
       "    </tr>\n",
       "    <tr>\n",
       "      <th>BenchDummy</th>\n",
       "      <td>0.049353</td>\n",
       "      <td>0.019207</td>\n",
       "      <td>-0.016135</td>\n",
       "      <td>0.078438</td>\n",
       "      <td>-0.052249</td>\n",
       "      <td>-0.019653</td>\n",
       "      <td>1.000000</td>\n",
       "      <td>0.001408</td>\n",
       "    </tr>\n",
       "    <tr>\n",
       "      <th>EXP</th>\n",
       "      <td>-0.036525</td>\n",
       "      <td>0.018314</td>\n",
       "      <td>-0.134643</td>\n",
       "      <td>-0.030504</td>\n",
       "      <td>-0.004463</td>\n",
       "      <td>-0.008745</td>\n",
       "      <td>0.001408</td>\n",
       "      <td>1.000000</td>\n",
       "    </tr>\n",
       "  </tbody>\n",
       "</table>\n",
       "</div>"
      ],
      "text/plain": [
       "             JoiningYear  PaymentTier       Age  LeaveOrNot    EduCat  \\\n",
       "JoiningYear     1.000000    -0.096078  0.013165    0.181705  0.142670   \n",
       "PaymentTier    -0.096078     1.000000  0.007631   -0.197638 -0.140741   \n",
       "Age             0.013165     0.007631  1.000000   -0.051126 -0.010611   \n",
       "LeaveOrNot      0.181705    -0.197638 -0.051126    1.000000  0.080497   \n",
       "EduCat          0.142670    -0.140741 -0.010611    0.080497  1.000000   \n",
       "GenderDummy     0.012213    -0.235119  0.003866    0.220701  0.010889   \n",
       "BenchDummy      0.049353     0.019207 -0.016135    0.078438 -0.052249   \n",
       "EXP            -0.036525     0.018314 -0.134643   -0.030504 -0.004463   \n",
       "\n",
       "             GenderDummy  BenchDummy       EXP  \n",
       "JoiningYear     0.012213    0.049353 -0.036525  \n",
       "PaymentTier    -0.235119    0.019207  0.018314  \n",
       "Age             0.003866   -0.016135 -0.134643  \n",
       "LeaveOrNot      0.220701    0.078438 -0.030504  \n",
       "EduCat          0.010889   -0.052249 -0.004463  \n",
       "GenderDummy     1.000000   -0.019653 -0.008745  \n",
       "BenchDummy     -0.019653    1.000000  0.001408  \n",
       "EXP            -0.008745    0.001408  1.000000  "
      ]
     },
     "execution_count": 55,
     "metadata": {},
     "output_type": "execute_result"
    }
   ],
   "source": [
    "DF.corr()"
   ]
  },
  {
   "cell_type": "code",
   "execution_count": null,
   "metadata": {},
   "outputs": [],
   "source": [
    "#These correlations showcase a wide variety of trends to be found in the data. While some, those involving compensation and\n",
    "#education based on gender have been mentioned before, and may be a result of systemic discrimination reducing the pool of\n",
    "#women qualified for better-paying jobs, the other findings read a bit less intuitive. First of all, there is the, albeit\n",
    "#weak, negative correlation between education past master's degree (PHD), and compensation, and perhaps the strangest, the \n",
    "#finding that women were slightly less likely than men to require benching. Despite being underrepresented and underpaid, it\n",
    "#seems that women are slighlty more competent workers within the company. It should also be noted that while men are more\n",
    "#likely to hold PHDs, women are more likely to hold master's degrees, despite a broad tendency to be paid less (although\n",
    "#this is correlated fairly closely with payment tier as well, women are slightly favored at both master's degrees and\n",
    "#payment tier 2). Perhaps most oddly, bachelor's degrees are favored at payment tier 3, likely due to some high-level\n",
    "#outliers. When it comes to experience, the variation is extremely broad towards the top, supporting this idea. "
   ]
  },
  {
   "cell_type": "code",
   "execution_count": null,
   "metadata": {},
   "outputs": [],
   "source": [
    "#While these correlations are interesting in and of themselves, the primary purpose here is to examine employee retention \n",
    "#rates. While the details above may provide context and help explain the effects found in the LeaveOrNot category.\n",
    "#While this is not an exact variable tracking employee departure, however it does consider the temporary departures\n",
    "#which will naturally cut into the company's potential for growth and initial productivity."
   ]
  },
  {
   "cell_type": "code",
   "execution_count": 46,
   "metadata": {},
   "outputs": [
    {
     "data": {
      "text/plain": [
       "-0.19763776738141295"
      ]
     },
     "execution_count": 46,
     "metadata": {},
     "output_type": "execute_result"
    }
   ],
   "source": [
    "DF['LeaveOrNot'].corr(DF['PaymentTier'])"
   ]
  },
  {
   "cell_type": "code",
   "execution_count": 47,
   "metadata": {},
   "outputs": [
    {
     "data": {
      "text/plain": [
       "<AxesSubplot:xlabel='LeaveOrNot', ylabel='PaymentTier'>"
      ]
     },
     "execution_count": 47,
     "metadata": {},
     "output_type": "execute_result"
    },
    {
     "data": {
      "image/png": "[encoded data removed]",
      "text/plain": [
       "<Figure size 432x288 with 1 Axes>"
      ]
     },
     "metadata": {
      "needs_background": "light"
     },
     "output_type": "display_data"
    }
   ],
   "source": [
    "sns.lineplot(x=\"LeaveOrNot\", y=\"PaymentTier\", data=DF)"
   ]
  },
  {
   "cell_type": "code",
   "execution_count": 48,
   "metadata": {},
   "outputs": [
    {
     "data": {
      "text/plain": [
       "0.22070050851604348"
      ]
     },
     "execution_count": 48,
     "metadata": {},
     "output_type": "execute_result"
    }
   ],
   "source": [
    "DF['LeaveOrNot'].corr(DF['GenderDummy'])"
   ]
  },
  {
   "cell_type": "code",
   "execution_count": 50,
   "metadata": {},
   "outputs": [
    {
     "data": {
      "text/plain": [
       "<AxesSubplot:xlabel='LeaveOrNot', ylabel='GenderDummy'>"
      ]
     },
     "execution_count": 50,
     "metadata": {},
     "output_type": "execute_result"
    },
    {
     "data": {
      "image/png": "[encoded data removed]",
      "text/plain": [
       "<Figure size 432x288 with 1 Axes>"
      ]
     },
     "metadata": {
      "needs_background": "light"
     },
     "output_type": "display_data"
    }
   ],
   "source": [
    "sns.lineplot(x=\"LeaveOrNot\", y=\"GenderDummy\", data=DF)"
   ]
  },
  {
   "cell_type": "code",
   "execution_count": 51,
   "metadata": {},
   "outputs": [
    {
     "data": {
      "text/plain": [
       "-0.030504123536844768"
      ]
     },
     "execution_count": 51,
     "metadata": {},
     "output_type": "execute_result"
    }
   ],
   "source": [
    "DF['LeaveOrNot'].corr(DF['EXP'])"
   ]
  },
  {
   "cell_type": "code",
   "execution_count": 52,
   "metadata": {},
   "outputs": [
    {
     "data": {
      "text/plain": [
       "<AxesSubplot:xlabel='LeaveOrNot', ylabel='EXP'>"
      ]
     },
     "execution_count": 52,
     "metadata": {},
     "output_type": "execute_result"
    },
    {
     "data": {
      "image/png": "[encoded data removed]",
      "text/plain": [
       "<Figure size 432x288 with 1 Axes>"
      ]
     },
     "metadata": {
      "needs_background": "light"
     },
     "output_type": "display_data"
    }
   ],
   "source": [
    "sns.lineplot(x=\"LeaveOrNot\", y=\"EXP\", data=DF)"
   ]
  },
  {
   "cell_type": "code",
   "execution_count": null,
   "metadata": {},
   "outputs": [],
   "source": [
    "#When it comes to the issues of pay, gender, and experience, the first and third are negative, meaning that those with \n",
    "#more experience and higher pay, the worker is less likely to take a leave of absence, while women are more likely to take\n",
    "#the leave. The reason for this final point should also be fairly intuitive, simply that maternity leave, both as a result \n",
    "#of the need to recover from pregnancy, bond with their children, and also the social pressure to stay as the 'primary' \n",
    "#parent over the father. "
   ]
  },
  {
   "cell_type": "code",
   "execution_count": null,
   "metadata": {},
   "outputs": [],
   "source": [
    "#On the point of leave, the situation can limit the opportunity for both the worker and the company, as the company is\n",
    "#placed in the position of either losing a worker and the relevant department suffering, or having to hire a temporary,\n",
    "#less-experienced worker, further hampering department productivity. The specter of gender is also relevant here, as \n",
    "#there is substantial evidence that having more women in leadership confers significant benefits around profitability,\n",
    "#retention, and company culture, implying that both attracting more women to the company and minimizing leave will benefit\n",
    "#the company. To this end, the following policy suggestions are recommended."
   ]
  },
  {
   "cell_type": "code",
   "execution_count": null,
   "metadata": {},
   "outputs": [],
   "source": [
    "#1. Implement a tie-breaker policy for internal advancement, offering promotions to equally qualified women.\n",
    "#2. Determine factors that make women who have stayed with the company for longer stay, by determining what they value\n",
    "#in the workplace, and promote those elements, provided they do not directly conflict with the same responses of ther male \n",
    "#counterparts.\n",
    "#3. While maternity leave is difficult to minimize, determine any other forms of leave, and attempt to minimize it in any \n",
    "#way possible, based on further survey data."
   ]
  },
  {
   "cell_type": "code",
   "execution_count": null,
   "metadata": {},
   "outputs": [],
   "source": [
    "#Thank you for attending this presentation. I hope it proves informative and helpful in determining better hiring\n",
    "#and retention policies."
   ]
  }
 ],
 "metadata": {
  "kernelspec": {
   "display_name": "Python 3",
   "language": "python",
   "name": "python3"
  },
  "language_info": {
   "codemirror_mode": {
    "name": "ipython",
    "version": 3
   },
   "file_extension": ".py",
   "mimetype": "text/x-python",
   "name": "python",
   "nbconvert_exporter": "python",
   "pygments_lexer": "ipython3",
   "version": "3.7.6"
  }
 },
 "nbformat": 4,
 "nbformat_minor": 4
}
